{
 "cells": [
  {
   "cell_type": "code",
   "execution_count": 1,
   "id": "d65099f0-24fc-4f50-b48e-647fe3d5f950",
   "metadata": {},
   "outputs": [],
   "source": [
    "import cv2\n",
    "import mediapipe as mp\n",
    "import time"
   ]
  },
  {
   "cell_type": "code",
   "execution_count": 10,
   "id": "48cc6904-1946-455b-ae08-3f5c716310bf",
   "metadata": {},
   "outputs": [],
   "source": [
    "mpDraw = mp.solutions.drawing_utils\n",
    "mpFaceMesh = mp.solutions.face_mesh\n",
    "faceMesh = mpFaceMesh.FaceMesh()"
   ]
  },
  {
   "cell_type": "code",
   "execution_count": 14,
   "id": "05761168-dfed-4972-b965-8883ad248921",
   "metadata": {},
   "outputs": [],
   "source": [
    "mpDraw = mp.solutions.drawing_utils\n",
    "mpFaceMesh = mp.solutions.face_mesh\n",
    "faceMesh = mpFaceMesh.FaceMesh()\n",
    "cap = cv2.VideoCapture(0)\n",
    "while True:\n",
    "    success , img = cap.read()\n",
    "    imageRGB = cv2.cvtColor(img,cv2.COLOR_BGR2RGB)\n",
    "    results = faceMesh.process(imageRGB)\n",
    "    if results.multi_face_landmarks:\n",
    "        for faceLms in results.multi_face_landmarks:\n",
    "            mpDraw.draw_landmarks(img, faceLms, mpFaceMesh.FACEMESH_CONTOURS)\n",
    "    \n",
    "    \n",
    "    \n",
    "    #fps module\n",
    "    pTime = 0\n",
    "    cTime = time.time()\n",
    "    fps = 1/(cTime-pTime)\n",
    "    pTime = cTime\n",
    "    cv2.putText(img,str(int(fps)),(10,70),cv2.FONT_HERSHEY_COMPLEX,2,(250,30,32),3)\n",
    "    \n",
    "    \n",
    "    cv2.imshow(\"image\",img)  \n",
    "    \n",
    "    if cv2.waitKey(1) == ord('q'):\n",
    "            break"
   ]
  },
  {
   "cell_type": "code",
   "execution_count": null,
   "id": "4d19cab1-6901-4b4f-9ea8-70407fd8df5f",
   "metadata": {},
   "outputs": [],
   "source": []
  },
  {
   "cell_type": "code",
   "execution_count": null,
   "id": "7e2149d0-f606-4d39-beba-78ed0faa035f",
   "metadata": {},
   "outputs": [],
   "source": []
  },
  {
   "cell_type": "code",
   "execution_count": null,
   "id": "319f58c9-ad15-4a21-822a-d792a06a82fc",
   "metadata": {},
   "outputs": [],
   "source": []
  }
 ],
 "metadata": {
  "kernelspec": {
   "display_name": "Bankai",
   "language": "python",
   "name": "bankai"
  },
  "language_info": {
   "codemirror_mode": {
    "name": "ipython",
    "version": 3
   },
   "file_extension": ".py",
   "mimetype": "text/x-python",
   "name": "python",
   "nbconvert_exporter": "python",
   "pygments_lexer": "ipython3",
   "version": "3.10.9"
  }
 },
 "nbformat": 4,
 "nbformat_minor": 5
}
