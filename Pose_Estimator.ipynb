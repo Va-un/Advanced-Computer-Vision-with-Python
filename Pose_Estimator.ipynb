{
 "cells": [
  {
   "cell_type": "code",
   "execution_count": 1,
   "id": "e5b19f51-5179-480c-9733-003eee79e58a",
   "metadata": {},
   "outputs": [],
   "source": [
    "import cv2\n",
    "import mediapipe as mp\n",
    "import time"
   ]
  },
  {
   "cell_type": "code",
   "execution_count": 2,
   "id": "c85cbdd5-fa44-42b7-bcb5-7c78115d08d2",
   "metadata": {},
   "outputs": [],
   "source": [
    "mpPose = mp.solutions.pose\n",
    "pose = mpPose.Pose()\n",
    "mpDraw = mp.solutions.drawing_utils"
   ]
  },
  {
   "cell_type": "code",
   "execution_count": null,
   "id": "18bab4b9-d075-4c71-95c8-a353f5510551",
   "metadata": {},
   "outputs": [],
   "source": [
    "cap =  cv2.VideoCapture(0) # your image\n",
    "ptime = 0\n",
    "while True:\n",
    "    success , img = cap.read()\n",
    "    imgRGB = cv2.cvtColor(img,cv2.COLOR_BGR2RGB)\n",
    "    results = pose.process(imgRGB)\n",
    "    \n",
    "    #Is adding the dots +connecting them + showing them\n",
    "    if results.pose_landmarks:\n",
    "        mpDraw.draw_landmarks(img, results.pose_landmarks,mpPose.POSE_CONNECTIONS)\n",
    "        for id,lm in enumerate(results.pose_landmarks.landmark): #getting the ratio of landmarks  \n",
    "            h, w, c =  img.shape\n",
    "            cx,cy = int(lm.x *w) , int(lm.y * h)\n",
    "            cv2.circle(img,(cx,cy),10,(255,255,0),cv2.FILLED)\n",
    "            \n",
    "    \n",
    "    #adding FPS\n",
    "    cTime = time.time()\n",
    "    fps = 1/(cTime - ptime)\n",
    "    ptime = cTime\n",
    "    cv2.putText(img,str(int(fps)),(70,50),cv2.FONT_HERSHEY_COMPLEX,3,(255,0,0),3)\n",
    "    \n",
    "    cv2.imshow(\"Image\",img)\n",
    "    if cv2.waitKey(1) == ord('q'):\n",
    "            break"
   ]
  },
  {
   "cell_type": "code",
   "execution_count": null,
   "id": "55f1cc7f-17c7-42bc-9441-8e731c843301",
   "metadata": {},
   "outputs": [],
   "source": []
  },
  {
   "cell_type": "code",
   "execution_count": null,
   "id": "0058a7d9-60b4-4f9c-a034-0bb3d77b9bb9",
   "metadata": {},
   "outputs": [],
   "source": []
  },
  {
   "cell_type": "code",
   "execution_count": null,
   "id": "ba2031a8-6718-4bf2-8e72-a3e63ea713aa",
   "metadata": {},
   "outputs": [],
   "source": []
  },
  {
   "cell_type": "code",
   "execution_count": null,
   "id": "402de11b-4b93-4ca9-a54e-a12a8a991c5e",
   "metadata": {},
   "outputs": [],
   "source": []
  },
  {
   "cell_type": "code",
   "execution_count": null,
   "id": "baeb592e-b866-4d01-9e5f-978e2323c377",
   "metadata": {},
   "outputs": [],
   "source": []
  },
  {
   "cell_type": "code",
   "execution_count": null,
   "id": "2f072177-0389-421d-886b-82924e4009c5",
   "metadata": {},
   "outputs": [],
   "source": []
  }
 ],
 "metadata": {
  "kernelspec": {
   "display_name": "Bankai",
   "language": "python",
   "name": "bankai"
  },
  "language_info": {
   "codemirror_mode": {
    "name": "ipython",
    "version": 3
   },
   "file_extension": ".py",
   "mimetype": "text/x-python",
   "name": "python",
   "nbconvert_exporter": "python",
   "pygments_lexer": "ipython3",
   "version": "3.10.9"
  }
 },
 "nbformat": 4,
 "nbformat_minor": 5
}
